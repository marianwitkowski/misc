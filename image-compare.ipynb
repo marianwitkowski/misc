{
 "cells": [
  {
   "cell_type": "code",
   "execution_count": 42,
   "id": "8eca9bc3",
   "metadata": {},
   "outputs": [],
   "source": [
    "from PIL import Image\n",
    "import numpy as np\n",
    "import matplotlib.pyplot as plt\n",
    "import matplotlib.image as mpimg\n",
    "\n",
    "\n",
    "LOGO_FILE = 'logo.png'"
   ]
  },
  {
   "cell_type": "markdown",
   "id": "6707355e",
   "metadata": {},
   "source": [
    "## RGB to grayscale"
   ]
  },
  {
   "cell_type": "markdown",
   "id": "571faad7",
   "metadata": {},
   "source": [
    "#### Pillow"
   ]
  },
  {
   "cell_type": "code",
   "execution_count": 43,
   "id": "6453cfd3",
   "metadata": {},
   "outputs": [
    {
     "name": "stdout",
     "output_type": "stream",
     "text": [
      "3.07 ms ± 1.81 ms per loop (mean ± std. dev. of 10 runs, 10 loops each)\n"
     ]
    }
   ],
   "source": [
    "im = Image.open(LOGO_FILE)\n",
    "%timeit -r 10 -n 10 im.convert('L')"
   ]
  },
  {
   "cell_type": "markdown",
   "id": "e9711868",
   "metadata": {},
   "source": [
    "#### NumPy - version 1 - matrix dot operation"
   ]
  },
  {
   "cell_type": "code",
   "execution_count": 44,
   "id": "098ac2c4",
   "metadata": {},
   "outputs": [],
   "source": [
    "def rgb2gray(rgb):\n",
    "    return np.dot(rgb[...,:3], [0.2989, 0.5870, 0.1140])"
   ]
  },
  {
   "cell_type": "code",
   "execution_count": 45,
   "id": "1928ac75",
   "metadata": {},
   "outputs": [
    {
     "name": "stdout",
     "output_type": "stream",
     "text": [
      "74.6 ms ± 3.08 ms per loop (mean ± std. dev. of 10 runs, 10 loops each)\n"
     ]
    }
   ],
   "source": [
    "img = mpimg.imread(LOGO_FILE)     \n",
    "%timeit -r 10 -n 10 rgb2gray(img) "
   ]
  },
  {
   "cell_type": "markdown",
   "id": "111e17ee",
   "metadata": {},
   "source": [
    "#### NumPy - version 2 - array broadcasting"
   ]
  },
  {
   "cell_type": "code",
   "execution_count": 46,
   "id": "a8d04047",
   "metadata": {},
   "outputs": [
    {
     "name": "stdout",
     "output_type": "stream",
     "text": [
      "8.51 ms ± 372 µs per loop (mean ± std. dev. of 10 runs, 10 loops each)\n"
     ]
    }
   ],
   "source": [
    "%%timeit -r 10 -n 10\n",
    "R, G, B = img[:,:,0], img[:,:,1], img[:,:,2]\n",
    "imgGray = 0.2989 * R + 0.5870 * G + 0.1140 * B"
   ]
  },
  {
   "cell_type": "markdown",
   "id": "ee3b7b05",
   "metadata": {},
   "source": [
    "#### OpenCV"
   ]
  },
  {
   "cell_type": "code",
   "execution_count": 47,
   "id": "90c9e895",
   "metadata": {},
   "outputs": [],
   "source": [
    "try:\n",
    "    import cv2\n",
    "except:\n",
    "    !pip install opencv-python"
   ]
  },
  {
   "cell_type": "code",
   "execution_count": 48,
   "id": "1f101ab4",
   "metadata": {},
   "outputs": [],
   "source": [
    "img = cv2.imread(LOGO_FILE)"
   ]
  },
  {
   "cell_type": "code",
   "execution_count": 49,
   "id": "8e5d9185",
   "metadata": {},
   "outputs": [
    {
     "name": "stdout",
     "output_type": "stream",
     "text": [
      "530 µs ± 104 µs per loop (mean ± std. dev. of 10 runs, 10 loops each)\n"
     ]
    }
   ],
   "source": [
    "%timeit -r 10 -n 10 gray = cv2.cvtColor(img, cv2.COLOR_BGR2GRAY)"
   ]
  },
  {
   "cell_type": "markdown",
   "id": "c099f79f",
   "metadata": {},
   "source": [
    "## Rescale"
   ]
  },
  {
   "cell_type": "markdown",
   "id": "dba831c4",
   "metadata": {},
   "source": [
    "#### Pillow"
   ]
  },
  {
   "cell_type": "code",
   "execution_count": 50,
   "id": "f6dcabd3",
   "metadata": {},
   "outputs": [
    {
     "name": "stdout",
     "output_type": "stream",
     "text": [
      "31.4 ms ± 1.59 ms per loop (mean ± std. dev. of 10 runs, 10 loops each)\n"
     ]
    }
   ],
   "source": [
    "im = Image.open(LOGO_FILE)\n",
    "%timeit -r 10 -n 10 im.resize((800,237))"
   ]
  },
  {
   "cell_type": "markdown",
   "id": "31d6a8be",
   "metadata": {},
   "source": [
    "#### scikit-image"
   ]
  },
  {
   "cell_type": "code",
   "execution_count": 51,
   "id": "c034830d",
   "metadata": {},
   "outputs": [],
   "source": [
    "try:\n",
    "    from skimage.transform import resize\n",
    "except:\n",
    "    !pip install scikit-image"
   ]
  },
  {
   "cell_type": "code",
   "execution_count": 52,
   "id": "d0864a41",
   "metadata": {},
   "outputs": [
    {
     "name": "stdout",
     "output_type": "stream",
     "text": [
      "240 ms ± 6.34 ms per loop (mean ± std. dev. of 10 runs, 10 loops each)\n"
     ]
    }
   ],
   "source": [
    "im = plt.imread(LOGO_FILE)\n",
    "%timeit -r 10 -n 10 resize(im, (800,237))"
   ]
  },
  {
   "cell_type": "markdown",
   "id": "608a84d4",
   "metadata": {},
   "source": [
    "#### OpenCV"
   ]
  },
  {
   "cell_type": "code",
   "execution_count": 53,
   "id": "40b37694",
   "metadata": {},
   "outputs": [
    {
     "name": "stdout",
     "output_type": "stream",
     "text": [
      "244 µs ± 42.8 µs per loop (mean ± std. dev. of 10 runs, 10 loops each)\n"
     ]
    }
   ],
   "source": [
    "img = cv2.imread(LOGO_FILE)\n",
    "%timeit -r 10 -n 10 cv2.cv2.resize(img, (800,237), interpolation = cv2.INTER_NEAREST)"
   ]
  }
 ],
 "metadata": {
  "kernelspec": {
   "display_name": "Python 3 (ipykernel)",
   "language": "python",
   "name": "python3"
  },
  "language_info": {
   "codemirror_mode": {
    "name": "ipython",
    "version": 3
   },
   "file_extension": ".py",
   "mimetype": "text/x-python",
   "name": "python",
   "nbconvert_exporter": "python",
   "pygments_lexer": "ipython3",
   "version": "3.9.5"
  }
 },
 "nbformat": 4,
 "nbformat_minor": 5
}
