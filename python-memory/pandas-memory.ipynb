{
 "cells": [
  {
   "cell_type": "code",
   "execution_count": 1,
   "metadata": {},
   "outputs": [],
   "source": [
    "import pandas as pd"
   ]
  },
  {
   "cell_type": "markdown",
   "metadata": {},
   "source": [
    "## Utworzenie Dataframe z 1mln wierszy"
   ]
  },
  {
   "cell_type": "code",
   "execution_count": 2,
   "metadata": {},
   "outputs": [],
   "source": [
    "file_name = \"https://www.dropbox.com/s/g0pzhynfphlw6lp/sales-records.zip?dl=1\"\n",
    "df = pd.read_csv(file_name, compression=\"zip\")"
   ]
  },
  {
   "cell_type": "code",
   "execution_count": 3,
   "metadata": {},
   "outputs": [
    {
     "data": {
      "text/plain": [
       "(1000000, 14)"
      ]
     },
     "execution_count": 3,
     "metadata": {},
     "output_type": "execute_result"
    }
   ],
   "source": [
    "df.shape"
   ]
  },
  {
   "cell_type": "code",
   "execution_count": 4,
   "metadata": {},
   "outputs": [
    {
     "data": {
      "text/html": [
       "<div>\n",
       "<style scoped>\n",
       "    .dataframe tbody tr th:only-of-type {\n",
       "        vertical-align: middle;\n",
       "    }\n",
       "\n",
       "    .dataframe tbody tr th {\n",
       "        vertical-align: top;\n",
       "    }\n",
       "\n",
       "    .dataframe thead th {\n",
       "        text-align: right;\n",
       "    }\n",
       "</style>\n",
       "<table border=\"1\" class=\"dataframe\">\n",
       "  <thead>\n",
       "    <tr style=\"text-align: right;\">\n",
       "      <th></th>\n",
       "      <th>Region</th>\n",
       "      <th>Country</th>\n",
       "      <th>Item Type</th>\n",
       "      <th>Sales Channel</th>\n",
       "      <th>Order Priority</th>\n",
       "      <th>Order Date</th>\n",
       "      <th>Order ID</th>\n",
       "      <th>Ship Date</th>\n",
       "      <th>Units Sold</th>\n",
       "      <th>Unit Price</th>\n",
       "      <th>Unit Cost</th>\n",
       "      <th>Total Revenue</th>\n",
       "      <th>Total Cost</th>\n",
       "      <th>Total Profit</th>\n",
       "    </tr>\n",
       "  </thead>\n",
       "  <tbody>\n",
       "    <tr>\n",
       "      <th>488686</th>\n",
       "      <td>Sub-Saharan Africa</td>\n",
       "      <td>Cameroon</td>\n",
       "      <td>Meat</td>\n",
       "      <td>Offline</td>\n",
       "      <td>M</td>\n",
       "      <td>2/7/2017</td>\n",
       "      <td>109541690</td>\n",
       "      <td>3/23/2017</td>\n",
       "      <td>4675</td>\n",
       "      <td>421.89</td>\n",
       "      <td>364.69</td>\n",
       "      <td>1972335.75</td>\n",
       "      <td>1704925.75</td>\n",
       "      <td>267410.00</td>\n",
       "    </tr>\n",
       "    <tr>\n",
       "      <th>327207</th>\n",
       "      <td>Europe</td>\n",
       "      <td>Georgia</td>\n",
       "      <td>Snacks</td>\n",
       "      <td>Offline</td>\n",
       "      <td>M</td>\n",
       "      <td>9/8/2010</td>\n",
       "      <td>814249837</td>\n",
       "      <td>9/23/2010</td>\n",
       "      <td>3476</td>\n",
       "      <td>152.58</td>\n",
       "      <td>97.44</td>\n",
       "      <td>530368.08</td>\n",
       "      <td>338701.44</td>\n",
       "      <td>191666.64</td>\n",
       "    </tr>\n",
       "    <tr>\n",
       "      <th>696938</th>\n",
       "      <td>Middle East and North Africa</td>\n",
       "      <td>Yemen</td>\n",
       "      <td>Snacks</td>\n",
       "      <td>Online</td>\n",
       "      <td>H</td>\n",
       "      <td>8/23/2012</td>\n",
       "      <td>847381770</td>\n",
       "      <td>9/5/2012</td>\n",
       "      <td>7951</td>\n",
       "      <td>152.58</td>\n",
       "      <td>97.44</td>\n",
       "      <td>1213163.58</td>\n",
       "      <td>774745.44</td>\n",
       "      <td>438418.14</td>\n",
       "    </tr>\n",
       "    <tr>\n",
       "      <th>359194</th>\n",
       "      <td>Central America and the Caribbean</td>\n",
       "      <td>Trinidad and Tobago</td>\n",
       "      <td>Cosmetics</td>\n",
       "      <td>Online</td>\n",
       "      <td>C</td>\n",
       "      <td>8/13/2014</td>\n",
       "      <td>361696803</td>\n",
       "      <td>8/20/2014</td>\n",
       "      <td>2977</td>\n",
       "      <td>437.20</td>\n",
       "      <td>263.33</td>\n",
       "      <td>1301544.40</td>\n",
       "      <td>783933.41</td>\n",
       "      <td>517610.99</td>\n",
       "    </tr>\n",
       "    <tr>\n",
       "      <th>902856</th>\n",
       "      <td>Central America and the Caribbean</td>\n",
       "      <td>Saint Lucia</td>\n",
       "      <td>Vegetables</td>\n",
       "      <td>Online</td>\n",
       "      <td>C</td>\n",
       "      <td>1/10/2012</td>\n",
       "      <td>908561027</td>\n",
       "      <td>2/8/2012</td>\n",
       "      <td>2253</td>\n",
       "      <td>154.06</td>\n",
       "      <td>90.93</td>\n",
       "      <td>347097.18</td>\n",
       "      <td>204865.29</td>\n",
       "      <td>142231.89</td>\n",
       "    </tr>\n",
       "    <tr>\n",
       "      <th>...</th>\n",
       "      <td>...</td>\n",
       "      <td>...</td>\n",
       "      <td>...</td>\n",
       "      <td>...</td>\n",
       "      <td>...</td>\n",
       "      <td>...</td>\n",
       "      <td>...</td>\n",
       "      <td>...</td>\n",
       "      <td>...</td>\n",
       "      <td>...</td>\n",
       "      <td>...</td>\n",
       "      <td>...</td>\n",
       "      <td>...</td>\n",
       "      <td>...</td>\n",
       "    </tr>\n",
       "    <tr>\n",
       "      <th>427697</th>\n",
       "      <td>Australia and Oceania</td>\n",
       "      <td>Palau</td>\n",
       "      <td>Baby Food</td>\n",
       "      <td>Online</td>\n",
       "      <td>C</td>\n",
       "      <td>5/25/2010</td>\n",
       "      <td>376696145</td>\n",
       "      <td>6/22/2010</td>\n",
       "      <td>1615</td>\n",
       "      <td>255.28</td>\n",
       "      <td>159.42</td>\n",
       "      <td>412277.20</td>\n",
       "      <td>257463.30</td>\n",
       "      <td>154813.90</td>\n",
       "    </tr>\n",
       "    <tr>\n",
       "      <th>980562</th>\n",
       "      <td>Asia</td>\n",
       "      <td>Philippines</td>\n",
       "      <td>Baby Food</td>\n",
       "      <td>Online</td>\n",
       "      <td>L</td>\n",
       "      <td>11/11/2016</td>\n",
       "      <td>865718638</td>\n",
       "      <td>11/17/2016</td>\n",
       "      <td>4238</td>\n",
       "      <td>255.28</td>\n",
       "      <td>159.42</td>\n",
       "      <td>1081876.64</td>\n",
       "      <td>675621.96</td>\n",
       "      <td>406254.68</td>\n",
       "    </tr>\n",
       "    <tr>\n",
       "      <th>772517</th>\n",
       "      <td>Middle East and North Africa</td>\n",
       "      <td>Oman</td>\n",
       "      <td>Fruits</td>\n",
       "      <td>Online</td>\n",
       "      <td>L</td>\n",
       "      <td>4/18/2013</td>\n",
       "      <td>835480058</td>\n",
       "      <td>4/21/2013</td>\n",
       "      <td>5970</td>\n",
       "      <td>9.33</td>\n",
       "      <td>6.92</td>\n",
       "      <td>55700.10</td>\n",
       "      <td>41312.40</td>\n",
       "      <td>14387.70</td>\n",
       "    </tr>\n",
       "    <tr>\n",
       "      <th>79577</th>\n",
       "      <td>Sub-Saharan Africa</td>\n",
       "      <td>Mauritius</td>\n",
       "      <td>Cereal</td>\n",
       "      <td>Online</td>\n",
       "      <td>M</td>\n",
       "      <td>6/15/2014</td>\n",
       "      <td>987168633</td>\n",
       "      <td>7/19/2014</td>\n",
       "      <td>3991</td>\n",
       "      <td>205.70</td>\n",
       "      <td>117.11</td>\n",
       "      <td>820948.70</td>\n",
       "      <td>467386.01</td>\n",
       "      <td>353562.69</td>\n",
       "    </tr>\n",
       "    <tr>\n",
       "      <th>868262</th>\n",
       "      <td>Middle East and North Africa</td>\n",
       "      <td>Israel</td>\n",
       "      <td>Vegetables</td>\n",
       "      <td>Offline</td>\n",
       "      <td>H</td>\n",
       "      <td>9/18/2013</td>\n",
       "      <td>934913623</td>\n",
       "      <td>10/8/2013</td>\n",
       "      <td>572</td>\n",
       "      <td>154.06</td>\n",
       "      <td>90.93</td>\n",
       "      <td>88122.32</td>\n",
       "      <td>52011.96</td>\n",
       "      <td>36110.36</td>\n",
       "    </tr>\n",
       "  </tbody>\n",
       "</table>\n",
       "<p>1000 rows × 14 columns</p>\n",
       "</div>"
      ],
      "text/plain": [
       "                                   Region              Country   Item Type  \\\n",
       "488686                 Sub-Saharan Africa             Cameroon        Meat   \n",
       "327207                             Europe              Georgia      Snacks   \n",
       "696938       Middle East and North Africa                Yemen      Snacks   \n",
       "359194  Central America and the Caribbean  Trinidad and Tobago   Cosmetics   \n",
       "902856  Central America and the Caribbean          Saint Lucia  Vegetables   \n",
       "...                                   ...                  ...         ...   \n",
       "427697              Australia and Oceania                Palau   Baby Food   \n",
       "980562                               Asia          Philippines   Baby Food   \n",
       "772517       Middle East and North Africa                 Oman      Fruits   \n",
       "79577                  Sub-Saharan Africa           Mauritius       Cereal   \n",
       "868262       Middle East and North Africa               Israel  Vegetables   \n",
       "\n",
       "       Sales Channel Order Priority  Order Date   Order ID   Ship Date  \\\n",
       "488686       Offline              M    2/7/2017  109541690   3/23/2017   \n",
       "327207       Offline              M    9/8/2010  814249837   9/23/2010   \n",
       "696938        Online              H   8/23/2012  847381770    9/5/2012   \n",
       "359194        Online              C   8/13/2014  361696803   8/20/2014   \n",
       "902856        Online              C   1/10/2012  908561027    2/8/2012   \n",
       "...              ...            ...         ...        ...         ...   \n",
       "427697        Online              C   5/25/2010  376696145   6/22/2010   \n",
       "980562        Online              L  11/11/2016  865718638  11/17/2016   \n",
       "772517        Online              L   4/18/2013  835480058   4/21/2013   \n",
       "79577         Online              M   6/15/2014  987168633   7/19/2014   \n",
       "868262       Offline              H   9/18/2013  934913623   10/8/2013   \n",
       "\n",
       "        Units Sold  Unit Price  Unit Cost  Total Revenue  Total Cost  \\\n",
       "488686        4675      421.89     364.69     1972335.75  1704925.75   \n",
       "327207        3476      152.58      97.44      530368.08   338701.44   \n",
       "696938        7951      152.58      97.44     1213163.58   774745.44   \n",
       "359194        2977      437.20     263.33     1301544.40   783933.41   \n",
       "902856        2253      154.06      90.93      347097.18   204865.29   \n",
       "...            ...         ...        ...            ...         ...   \n",
       "427697        1615      255.28     159.42      412277.20   257463.30   \n",
       "980562        4238      255.28     159.42     1081876.64   675621.96   \n",
       "772517        5970        9.33       6.92       55700.10    41312.40   \n",
       "79577         3991      205.70     117.11      820948.70   467386.01   \n",
       "868262         572      154.06      90.93       88122.32    52011.96   \n",
       "\n",
       "        Total Profit  \n",
       "488686     267410.00  \n",
       "327207     191666.64  \n",
       "696938     438418.14  \n",
       "359194     517610.99  \n",
       "902856     142231.89  \n",
       "...              ...  \n",
       "427697     154813.90  \n",
       "980562     406254.68  \n",
       "772517      14387.70  \n",
       "79577      353562.69  \n",
       "868262      36110.36  \n",
       "\n",
       "[1000 rows x 14 columns]"
      ]
     },
     "execution_count": 4,
     "metadata": {},
     "output_type": "execute_result"
    }
   ],
   "source": [
    "df.sample(frac=0.001)"
   ]
  },
  {
   "cell_type": "code",
   "execution_count": 5,
   "metadata": {},
   "outputs": [
    {
     "data": {
      "text/plain": [
       "Region             object\n",
       "Country            object\n",
       "Item Type          object\n",
       "Sales Channel      object\n",
       "Order Priority     object\n",
       "Order Date         object\n",
       "Order ID            int64\n",
       "Ship Date          object\n",
       "Units Sold          int64\n",
       "Unit Price        float64\n",
       "Unit Cost         float64\n",
       "Total Revenue     float64\n",
       "Total Cost        float64\n",
       "Total Profit      float64\n",
       "dtype: object"
      ]
     },
     "execution_count": 5,
     "metadata": {},
     "output_type": "execute_result"
    }
   ],
   "source": [
    "df.dtypes"
   ]
  },
  {
   "cell_type": "markdown",
   "metadata": {},
   "source": [
    "## Zajętość pamięci przez Dataframe"
   ]
  },
  {
   "cell_type": "code",
   "execution_count": 6,
   "metadata": {},
   "outputs": [
    {
     "data": {
      "text/plain": [
       "Index                  128\n",
       "Region            72845056\n",
       "Country           65904370\n",
       "Item Type         65583558\n",
       "Sales Channel     63500249\n",
       "Order Priority    66000000\n",
       "Order Date        65936701\n",
       "Order ID           8000000\n",
       "Ship Date         65936993\n",
       "Units Sold         8000000\n",
       "Unit Price         8000000\n",
       "Unit Cost          8000000\n",
       "Total Revenue      8000000\n",
       "Total Cost         8000000\n",
       "Total Profit       8000000\n",
       "dtype: int64"
      ]
     },
     "execution_count": 6,
     "metadata": {},
     "output_type": "execute_result"
    }
   ],
   "source": [
    "df.memory_usage(deep=True)"
   ]
  },
  {
   "cell_type": "code",
   "execution_count": 7,
   "metadata": {},
   "outputs": [],
   "source": [
    "size_start = df.memory_usage(deep=True).sum()"
   ]
  },
  {
   "cell_type": "code",
   "execution_count": 8,
   "metadata": {},
   "outputs": [
    {
     "data": {
      "text/plain": [
       "array(['Sub-Saharan Africa', 'Middle East and North Africa',\n",
       "       'Australia and Oceania', 'Europe', 'Asia',\n",
       "       'Central America and the Caribbean', 'North America'], dtype=object)"
      ]
     },
     "execution_count": 8,
     "metadata": {},
     "output_type": "execute_result"
    }
   ],
   "source": [
    "df[\"Region\"].unique()"
   ]
  },
  {
   "cell_type": "code",
   "execution_count": 9,
   "metadata": {},
   "outputs": [
    {
     "data": {
      "text/plain": [
       "array(['South Africa', 'Morocco', 'Papua New Guinea', 'Djibouti',\n",
       "       'Slovakia', 'Sri Lanka', 'Seychelles ', 'Tanzania', 'Ghana',\n",
       "       'Taiwan', 'Algeria', 'Singapore', 'Vietnam', 'Uganda', 'Zimbabwe',\n",
       "       'Ethiopia', 'France', 'The Bahamas', 'Haiti', 'Nicaragua',\n",
       "       'Turkmenistan', 'United Kingdom', 'Dominican Republic', 'China',\n",
       "       'Kuwait', 'United Arab Emirates', 'Estonia', 'Malaysia', 'Vanuatu',\n",
       "       'India', 'Samoa ', 'Kazakhstan', 'Czech Republic', 'Belgium',\n",
       "       'Finland', 'Oman', 'Dominica', 'Serbia', 'Sao Tome and Principe',\n",
       "       'Brunei', 'Israel', 'Solomon Islands', 'Togo', 'Mauritius ',\n",
       "       'Canada', 'Lebanon', 'South Korea', 'Indonesia',\n",
       "       'Antigua and Barbuda ', 'Tunisia ', 'Thailand', 'Nepal',\n",
       "       'Montenegro', 'Greece', 'Monaco', 'Albania', 'Saint Lucia',\n",
       "       'Italy', 'Switzerland', 'Netherlands', 'Sweden', 'Burundi',\n",
       "       'Iceland', 'Rwanda', 'Japan', 'Romania', 'Belize', 'Egypt',\n",
       "       'Tonga', 'East Timor', 'The Gambia', 'Mali', 'Moldova ',\n",
       "       'Pakistan', 'Madagascar', 'United States of America',\n",
       "       'Democratic Republic of the Congo', 'New Zealand', 'Liberia',\n",
       "       'Malawi', 'Equatorial Guinea', 'El Salvador', 'Greenland',\n",
       "       'Myanmar', 'Costa Rica', 'Armenia', 'Somalia', 'Kenya', 'Zambia',\n",
       "       'Marshall Islands', 'Syria', 'Niger', 'Mongolia', 'Sierra Leone',\n",
       "       'Cape Verde', 'Denmark', 'Saint Kitts and Nevis ', 'Saudi Arabia',\n",
       "       'Bulgaria', 'Sudan', 'Yemen', 'Cambodia', 'Trinidad and Tobago',\n",
       "       'Central African Republic', 'Latvia', 'Grenada', 'Portugal',\n",
       "       'Bahrain', 'Cameroon', 'Bhutan', 'Georgia', 'Kiribati', 'Croatia',\n",
       "       'Turkey', 'Iraq', 'Comoros', 'Uzbekistan', 'Tuvalu', 'Gabon',\n",
       "       'Hungary', 'Jordan', 'Andorra', 'Luxembourg', 'Guinea-Bissau',\n",
       "       'Bangladesh', 'Laos', 'Nigeria', 'Germany', 'Jamaica', 'Botswana',\n",
       "       'Vatican City', 'Panama', 'Namibia', 'Ireland',\n",
       "       'Federated States of Micronesia', 'Poland', 'Kosovo', 'Palau',\n",
       "       'Angola', 'Benin', 'Mexico', 'Malta', 'Iran', 'Mauritania',\n",
       "       'Saint Vincent and the Grenadines', 'Guatemala', 'Lesotho',\n",
       "       'Mozambique', 'North Korea', 'Kyrgyzstan', 'Belarus',\n",
       "       'Liechtenstein', 'Burkina Faso', 'Australia', 'Macedonia',\n",
       "       'Bosnia and Herzegovina', 'Barbados', 'Senegal', 'Tajikistan',\n",
       "       'South Sudan', 'Cuba', 'Russia', 'Swaziland', 'Azerbaijan',\n",
       "       \"Cote d'Ivoire\", 'Austria', 'Chad', 'Libya', 'Norway',\n",
       "       'Afghanistan', 'Lithuania', 'Eritrea', 'Cyprus', 'Maldives',\n",
       "       'Slovenia', 'Guinea', 'Philippines', 'Qatar', 'Ukraine', 'Nauru',\n",
       "       'Honduras', 'Republic of the Congo', 'Spain', 'San Marino', 'Fiji'],\n",
       "      dtype=object)"
      ]
     },
     "execution_count": 9,
     "metadata": {},
     "output_type": "execute_result"
    }
   ],
   "source": [
    "df[\"Country\"].unique()"
   ]
  },
  {
   "cell_type": "code",
   "execution_count": 10,
   "metadata": {},
   "outputs": [
    {
     "data": {
      "text/plain": [
       "array(['Fruits', 'Clothes', 'Meat', 'Beverages', 'Office Supplies',\n",
       "       'Cosmetics', 'Snacks', 'Personal Care', 'Household', 'Vegetables',\n",
       "       'Baby Food', 'Cereal'], dtype=object)"
      ]
     },
     "execution_count": 10,
     "metadata": {},
     "output_type": "execute_result"
    }
   ],
   "source": [
    "df[\"Item Type\"].unique()"
   ]
  },
  {
   "cell_type": "markdown",
   "metadata": {},
   "source": [
    "## Użycie typu kategorycznego"
   ]
  },
  {
   "cell_type": "code",
   "execution_count": 11,
   "metadata": {},
   "outputs": [],
   "source": [
    "df[\"Region\"] = df[\"Region\"].astype(\"category\")\n",
    "df[\"Country\"] = df[\"Country\"].astype(\"category\")\n",
    "df[\"Item Type\"] = df[\"Item Type\"].astype(\"category\")\n",
    "df[\"Sales Channel\"] = df[\"Sales Channel\"].astype(\"category\")\n",
    "df[\"Order Priority\"] = df[\"Order Priority\"].astype(\"category\")"
   ]
  },
  {
   "cell_type": "code",
   "execution_count": 12,
   "metadata": {},
   "outputs": [
    {
     "data": {
      "text/plain": [
       "193893714"
      ]
     },
     "execution_count": 12,
     "metadata": {},
     "output_type": "execute_result"
    }
   ],
   "source": [
    "df.memory_usage(deep=True).sum()"
   ]
  },
  {
   "cell_type": "code",
   "execution_count": 13,
   "metadata": {},
   "outputs": [
    {
     "data": {
      "text/plain": [
       "Region            category\n",
       "Country           category\n",
       "Item Type         category\n",
       "Sales Channel     category\n",
       "Order Priority    category\n",
       "Order Date          object\n",
       "Order ID             int64\n",
       "Ship Date           object\n",
       "Units Sold           int64\n",
       "Unit Price         float64\n",
       "Unit Cost          float64\n",
       "Total Revenue      float64\n",
       "Total Cost         float64\n",
       "Total Profit       float64\n",
       "dtype: object"
      ]
     },
     "execution_count": 13,
     "metadata": {},
     "output_type": "execute_result"
    }
   ],
   "source": [
    "df.dtypes"
   ]
  },
  {
   "cell_type": "markdown",
   "metadata": {},
   "source": [
    "## Typy w NumPy"
   ]
  },
  {
   "cell_type": "markdown",
   "metadata": {},
   "source": [
    "<img src='https://miro.medium.com/max/1330/1*s6gKy2DZ_300dgAeHPgjkQ.png'>"
   ]
  },
  {
   "cell_type": "markdown",
   "metadata": {},
   "source": [
    "## Pobranie informacji o zakresach wartości dla typów numerycznych"
   ]
  },
  {
   "cell_type": "code",
   "execution_count": 14,
   "metadata": {},
   "outputs": [
    {
     "data": {
      "text/html": [
       "<div>\n",
       "<style scoped>\n",
       "    .dataframe tbody tr th:only-of-type {\n",
       "        vertical-align: middle;\n",
       "    }\n",
       "\n",
       "    .dataframe tbody tr th {\n",
       "        vertical-align: top;\n",
       "    }\n",
       "\n",
       "    .dataframe thead th {\n",
       "        text-align: right;\n",
       "    }\n",
       "</style>\n",
       "<table border=\"1\" class=\"dataframe\">\n",
       "  <thead>\n",
       "    <tr style=\"text-align: right;\">\n",
       "      <th></th>\n",
       "      <th>Order ID</th>\n",
       "      <th>Units Sold</th>\n",
       "      <th>Unit Price</th>\n",
       "      <th>Unit Cost</th>\n",
       "      <th>Total Revenue</th>\n",
       "      <th>Total Cost</th>\n",
       "      <th>Total Profit</th>\n",
       "    </tr>\n",
       "  </thead>\n",
       "  <tbody>\n",
       "    <tr>\n",
       "      <th>count</th>\n",
       "      <td>1.000000e+06</td>\n",
       "      <td>1000000.000000</td>\n",
       "      <td>1000000.000000</td>\n",
       "      <td>1000000.000000</td>\n",
       "      <td>1.000000e+06</td>\n",
       "      <td>1.000000e+06</td>\n",
       "      <td>1.000000e+06</td>\n",
       "    </tr>\n",
       "    <tr>\n",
       "      <th>mean</th>\n",
       "      <td>5.493520e+08</td>\n",
       "      <td>4998.867302</td>\n",
       "      <td>266.025488</td>\n",
       "      <td>187.522978</td>\n",
       "      <td>1.329563e+06</td>\n",
       "      <td>9.372671e+05</td>\n",
       "      <td>3.922956e+05</td>\n",
       "    </tr>\n",
       "    <tr>\n",
       "      <th>std</th>\n",
       "      <td>2.599397e+08</td>\n",
       "      <td>2885.334142</td>\n",
       "      <td>216.987966</td>\n",
       "      <td>175.650798</td>\n",
       "      <td>1.468527e+06</td>\n",
       "      <td>1.148954e+06</td>\n",
       "      <td>3.788199e+05</td>\n",
       "    </tr>\n",
       "    <tr>\n",
       "      <th>min</th>\n",
       "      <td>1.000012e+08</td>\n",
       "      <td>1.000000</td>\n",
       "      <td>9.330000</td>\n",
       "      <td>6.920000</td>\n",
       "      <td>9.330000e+00</td>\n",
       "      <td>6.920000e+00</td>\n",
       "      <td>2.410000e+00</td>\n",
       "    </tr>\n",
       "    <tr>\n",
       "      <th>25%</th>\n",
       "      <td>3.239629e+08</td>\n",
       "      <td>2502.000000</td>\n",
       "      <td>81.730000</td>\n",
       "      <td>35.840000</td>\n",
       "      <td>2.778672e+05</td>\n",
       "      <td>1.617289e+05</td>\n",
       "      <td>9.510480e+04</td>\n",
       "    </tr>\n",
       "    <tr>\n",
       "      <th>50%</th>\n",
       "      <td>5.486524e+08</td>\n",
       "      <td>4998.000000</td>\n",
       "      <td>154.060000</td>\n",
       "      <td>97.440000</td>\n",
       "      <td>7.844445e+05</td>\n",
       "      <td>4.667818e+05</td>\n",
       "      <td>2.810549e+05</td>\n",
       "    </tr>\n",
       "    <tr>\n",
       "      <th>75%</th>\n",
       "      <td>7.745981e+08</td>\n",
       "      <td>7496.000000</td>\n",
       "      <td>421.890000</td>\n",
       "      <td>263.330000</td>\n",
       "      <td>1.822444e+06</td>\n",
       "      <td>1.196327e+06</td>\n",
       "      <td>5.653076e+05</td>\n",
       "    </tr>\n",
       "    <tr>\n",
       "      <th>max</th>\n",
       "      <td>9.999999e+08</td>\n",
       "      <td>10000.000000</td>\n",
       "      <td>668.270000</td>\n",
       "      <td>524.960000</td>\n",
       "      <td>6.682700e+06</td>\n",
       "      <td>5.249600e+06</td>\n",
       "      <td>1.738700e+06</td>\n",
       "    </tr>\n",
       "  </tbody>\n",
       "</table>\n",
       "</div>"
      ],
      "text/plain": [
       "           Order ID      Units Sold      Unit Price       Unit Cost  \\\n",
       "count  1.000000e+06  1000000.000000  1000000.000000  1000000.000000   \n",
       "mean   5.493520e+08     4998.867302      266.025488      187.522978   \n",
       "std    2.599397e+08     2885.334142      216.987966      175.650798   \n",
       "min    1.000012e+08        1.000000        9.330000        6.920000   \n",
       "25%    3.239629e+08     2502.000000       81.730000       35.840000   \n",
       "50%    5.486524e+08     4998.000000      154.060000       97.440000   \n",
       "75%    7.745981e+08     7496.000000      421.890000      263.330000   \n",
       "max    9.999999e+08    10000.000000      668.270000      524.960000   \n",
       "\n",
       "       Total Revenue    Total Cost  Total Profit  \n",
       "count   1.000000e+06  1.000000e+06  1.000000e+06  \n",
       "mean    1.329563e+06  9.372671e+05  3.922956e+05  \n",
       "std     1.468527e+06  1.148954e+06  3.788199e+05  \n",
       "min     9.330000e+00  6.920000e+00  2.410000e+00  \n",
       "25%     2.778672e+05  1.617289e+05  9.510480e+04  \n",
       "50%     7.844445e+05  4.667818e+05  2.810549e+05  \n",
       "75%     1.822444e+06  1.196327e+06  5.653076e+05  \n",
       "max     6.682700e+06  5.249600e+06  1.738700e+06  "
      ]
     },
     "execution_count": 14,
     "metadata": {},
     "output_type": "execute_result"
    }
   ],
   "source": [
    "df.describe()"
   ]
  },
  {
   "cell_type": "markdown",
   "metadata": {},
   "source": [
    "## Dostosowanie typów numerycznych do zakresów"
   ]
  },
  {
   "cell_type": "code",
   "execution_count": 15,
   "metadata": {},
   "outputs": [],
   "source": [
    "df[\"Units Sold\"] = df[\"Units Sold\"].astype(\"uint16\")\n",
    "df[\"Unit Price\"] = df[\"Unit Price\"].astype(\"float32\")\n",
    "df[\"Unit Cost\"] = df[\"Unit Cost\"].astype(\"float32\")"
   ]
  },
  {
   "cell_type": "code",
   "execution_count": 16,
   "metadata": {},
   "outputs": [
    {
     "data": {
      "text/plain": [
       "179893714"
      ]
     },
     "execution_count": 16,
     "metadata": {},
     "output_type": "execute_result"
    }
   ],
   "source": [
    "df.memory_usage(deep=True).sum()"
   ]
  },
  {
   "cell_type": "markdown",
   "metadata": {},
   "source": [
    "## Konwersja object do datetime64ns"
   ]
  },
  {
   "cell_type": "code",
   "execution_count": 17,
   "metadata": {},
   "outputs": [],
   "source": [
    "df[\"Order Date\"] = pd.to_datetime(df[\"Order Date\"], format=\"%m/%d/%Y\", errors=\"coerce\")\n",
    "df[\"Ship Date\"] = pd.to_datetime(df[\"Ship Date\"], format=\"%m/%d/%Y\", errors=\"coerce\")"
   ]
  },
  {
   "cell_type": "code",
   "execution_count": 18,
   "metadata": {},
   "outputs": [
    {
     "data": {
      "text/plain": [
       "64020020"
      ]
     },
     "execution_count": 18,
     "metadata": {},
     "output_type": "execute_result"
    }
   ],
   "source": [
    "df.memory_usage(deep=True).sum()"
   ]
  },
  {
   "cell_type": "code",
   "execution_count": 19,
   "metadata": {},
   "outputs": [
    {
     "data": {
      "text/plain": [
       "Region                  category\n",
       "Country                 category\n",
       "Item Type               category\n",
       "Sales Channel           category\n",
       "Order Priority          category\n",
       "Order Date        datetime64[ns]\n",
       "Order ID                   int64\n",
       "Ship Date         datetime64[ns]\n",
       "Units Sold                uint16\n",
       "Unit Price               float32\n",
       "Unit Cost                float32\n",
       "Total Revenue            float64\n",
       "Total Cost               float64\n",
       "Total Profit             float64\n",
       "dtype: object"
      ]
     },
     "execution_count": 19,
     "metadata": {},
     "output_type": "execute_result"
    }
   ],
   "source": [
    "df.dtypes"
   ]
  },
  {
   "cell_type": "code",
   "execution_count": 20,
   "metadata": {},
   "outputs": [],
   "source": [
    "size_end = df.memory_usage(deep=True).sum()"
   ]
  },
  {
   "cell_type": "markdown",
   "metadata": {},
   "source": [
    "## Procentowa wielkość dataframe w stosunku do początkowego"
   ]
  },
  {
   "cell_type": "code",
   "execution_count": 21,
   "metadata": {},
   "outputs": [
    {
     "data": {
      "text/plain": [
       "12.271258244725097"
      ]
     },
     "execution_count": 21,
     "metadata": {},
     "output_type": "execute_result"
    }
   ],
   "source": [
    "size_end/size_start * 100"
   ]
  },
  {
   "cell_type": "code",
   "execution_count": null,
   "metadata": {},
   "outputs": [],
   "source": []
  }
 ],
 "metadata": {
  "kernelspec": {
   "display_name": "Python 3",
   "language": "python",
   "name": "python3"
  },
  "language_info": {
   "codemirror_mode": {
    "name": "ipython",
    "version": 3
   },
   "file_extension": ".py",
   "mimetype": "text/x-python",
   "name": "python",
   "nbconvert_exporter": "python",
   "pygments_lexer": "ipython3",
   "version": "3.7.6"
  }
 },
 "nbformat": 4,
 "nbformat_minor": 4
}
