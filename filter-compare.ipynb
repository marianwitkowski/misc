{
 "cells": [
  {
   "cell_type": "code",
   "execution_count": 1,
   "id": "1e7b50fd",
   "metadata": {},
   "outputs": [],
   "source": [
    "import numpy as np\n",
    "import matplotlib.pyplot as plt\n",
    "import random"
   ]
  },
  {
   "cell_type": "code",
   "execution_count": 2,
   "id": "a3975f05",
   "metadata": {},
   "outputs": [],
   "source": [
    "random.seed(0)\n",
    "numbers = list()\n",
    "for counter in range(0,10):\n",
    "    numbers.extend(\n",
    "        [random.randint(counter*10, counter*10+10) for x in range(100_000*(counter+1))])"
   ]
  },
  {
   "cell_type": "code",
   "execution_count": 3,
   "id": "084fb231",
   "metadata": {},
   "outputs": [
    {
     "data": {
      "image/png": "[encoded data removed]",
      "text/plain": [
       "<Figure size 432x288 with 1 Axes>"
      ]
     },
     "metadata": {
      "needs_background": "light"
     },
     "output_type": "display_data"
    }
   ],
   "source": [
    "plt.hist(numbers)\n",
    "plt.show()"
   ]
  },
  {
   "cell_type": "code",
   "execution_count": 4,
   "id": "d314fae6",
   "metadata": {},
   "outputs": [
    {
     "name": "stdout",
     "output_type": "stream",
     "text": [
      "620 ms ± 48.8 ms per loop (mean ± std. dev. of 10 runs, 10 loops each)\n"
     ]
    }
   ],
   "source": [
    "%timeit -r 10 -n 10 list(filter(lambda x: x>20 and x<40, numbers))"
   ]
  },
  {
   "cell_type": "code",
   "execution_count": 5,
   "id": "ab4f8f90",
   "metadata": {},
   "outputs": [
    {
     "name": "stdout",
     "output_type": "stream",
     "text": [
      "512 ms ± 4.1 ms per loop (mean ± std. dev. of 10 runs, 10 loops each)\n"
     ]
    }
   ],
   "source": [
    "%timeit -r 10 -n 10 list(filter(lambda x: x<40 and x>20, numbers))"
   ]
  },
  {
   "cell_type": "code",
   "execution_count": 6,
   "id": "f2febaf4",
   "metadata": {},
   "outputs": [
    {
     "name": "stdout",
     "output_type": "stream",
     "text": [
      "342 ms ± 1.79 ms per loop (mean ± std. dev. of 10 runs, 10 loops each)\n"
     ]
    }
   ],
   "source": [
    "%timeit -r 10 -n 10 [x for x in numbers if x>20 and x<40]"
   ]
  },
  {
   "cell_type": "code",
   "execution_count": 7,
   "id": "6d46b51c",
   "metadata": {},
   "outputs": [
    {
     "name": "stdout",
     "output_type": "stream",
     "text": [
      "240 ms ± 11 ms per loop (mean ± std. dev. of 10 runs, 10 loops each)\n"
     ]
    }
   ],
   "source": [
    "%timeit -r 10 -n 10 [x for x in numbers if x<40 and x>20]"
   ]
  },
  {
   "cell_type": "code",
   "execution_count": 8,
   "id": "e2a39c64",
   "metadata": {},
   "outputs": [
    {
     "name": "stdout",
     "output_type": "stream",
     "text": [
      "11.5 ms ± 346 µs per loop (mean ± std. dev. of 10 runs, 10 loops each)\n"
     ]
    }
   ],
   "source": [
    "arr = np.array(numbers)\n",
    "%timeit -r 10 -n 10 arr[(arr>20)&(arr<40)]"
   ]
  },
  {
   "cell_type": "code",
   "execution_count": 9,
   "id": "e0ace088",
   "metadata": {},
   "outputs": [
    {
     "name": "stdout",
     "output_type": "stream",
     "text": [
      "11.3 ms ± 144 µs per loop (mean ± std. dev. of 10 runs, 10 loops each)\n"
     ]
    }
   ],
   "source": [
    "arr = np.array(numbers)\n",
    "%timeit -r 10 -n 10 arr[(arr<40)&(arr>20)]"
   ]
  }
 ],
 "metadata": {
  "kernelspec": {
   "display_name": "Python 3 (ipykernel)",
   "language": "python",
   "name": "python3"
  },
  "language_info": {
   "codemirror_mode": {
    "name": "ipython",
    "version": 3
   },
   "file_extension": ".py",
   "mimetype": "text/x-python",
   "name": "python",
   "nbconvert_exporter": "python",
   "pygments_lexer": "ipython3",
   "version": "3.9.5"
  }
 },
 "nbformat": 4,
 "nbformat_minor": 5
}
